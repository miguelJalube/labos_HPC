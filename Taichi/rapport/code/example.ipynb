{
 "cells": [
  {
   "cell_type": "markdown",
   "metadata": {},
   "source": [
    "# Taichi\n",
    "## Description\n",
    "Taichi est un langage de programmation intégré à python qui permet d'écrire du code hautement performant en utilisant le parrallélisme et la vec2isation. Il est principalement utilisé pour la simulation physique, la rendu d'image et l'apprentissage profond. Taichi est conçu pour être facile à utiliser et à apprendre, il est également très flexible et extensible. Il est open source et est disponible sur github.\n",
    "\n",
    "## Installation\n",
    "Pour installer taichi, il suffit d'exécuter la commande suivante:\n",
    "```bash\n",
    "$ pip install taichi -U\n",
    "```"
   ]
  },
  {
   "cell_type": "code",
   "execution_count": 3,
   "metadata": {},
   "outputs": [
    {
     "name": "stdout",
     "output_type": "stream",
     "text": [
      "Defaulting to user installation because normal site-packages is not writeable\n",
      "Requirement already satisfied: taichi in /home/miguel/.local/lib/python3.10/site-packages (1.7.1)\n",
      "Requirement already satisfied: dill in /home/miguel/.local/lib/python3.10/site-packages (from taichi) (0.3.8)\n",
      "Requirement already satisfied: numpy in /home/miguel/.local/lib/python3.10/site-packages (from taichi) (1.23.0)\n",
      "Requirement already satisfied: colorama in /usr/lib/python3/dist-packages (from taichi) (0.4.4)\n",
      "Requirement already satisfied: rich in /home/miguel/.local/lib/python3.10/site-packages (from taichi) (13.7.1)\n",
      "Requirement already satisfied: pygments<3.0.0,>=2.13.0 in /home/miguel/.local/lib/python3.10/site-packages (from rich->taichi) (2.18.0)\n",
      "Requirement already satisfied: markdown-it-py>=2.2.0 in /home/miguel/.local/lib/python3.10/site-packages (from rich->taichi) (3.0.0)\n",
      "Requirement already satisfied: mdurl~=0.1 in /home/miguel/.local/lib/python3.10/site-packages (from markdown-it-py>=2.2.0->rich->taichi) (0.1.2)\n"
     ]
    }
   ],
   "source": [
    "\n",
    "!pip install taichi -U"
   ]
  },
  {
   "cell_type": "markdown",
   "metadata": {},
   "source": [
    "## Prise en main\n",
    "\n",
    "Pour prendre en main taichi, nous allons écrire un programme simple qui affiche une fractale à l'écran."
   ]
  },
  {
   "cell_type": "markdown",
   "metadata": {},
   "source": [
    "## Version non optimisée du Labo 7"
   ]
  },
  {
   "cell_type": "code",
   "execution_count": 14,
   "metadata": {},
   "outputs": [
    {
     "name": "stdout",
     "output_type": "stream",
     "text": [
      "Sequence found\n"
     ]
    }
   ],
   "source": [
    "def find_sequence_in_file(filename, sequence):\n",
    "    try:\n",
    "        with open(filename, 'r') as file:\n",
    "            sequence_length = len(sequence)\n",
    "            match_count = 0\n",
    "\n",
    "            while True:\n",
    "                ch = file.read(1)\n",
    "                if not ch:\n",
    "                    break\n",
    "\n",
    "                if ch == sequence[match_count]:\n",
    "                    match_count += 1\n",
    "                    if match_count == sequence_length:\n",
    "                        return True\n",
    "                else:\n",
    "                    match_count = 1 if ch == sequence[0] else 0\n",
    "\n",
    "    except FileNotFoundError:\n",
    "        print(f\"Could not open file {filename}\", file=sys.stderr)\n",
    "        return False\n",
    "\n",
    "    return False\n",
    "\n",
    "filename = \"/home/miguel/Bureau/HPC/labos_HPC/lab7/code/inputs/10m.txt\"\n",
    "sequence = \"20058243\"\n",
    "\n",
    "found = find_sequence_in_file(filename, sequence)\n",
    "if found:\n",
    "    print(\"Sequence found\")\n",
    "else:\n",
    "    print(\"Sequence not found\")"
   ]
  },
  {
   "cell_type": "markdown",
   "metadata": {},
   "source": [
    "## Version optimisiée avec Taichi"
   ]
  },
  {
   "cell_type": "code",
   "execution_count": 31,
   "metadata": {},
   "outputs": [
    {
     "name": "stdout",
     "output_type": "stream",
     "text": [
      "[Taichi] Starting on arch=x64\n",
      "<class 'taichi.lang.field.ScalarField'>\n"
     ]
    },
    {
     "ename": "TaichiSyntaxError",
     "evalue": "Invalid type annotation (argument 0) of Taichi kernel: <function ndarray at 0x7d1fd00e7910> (<string>)",
     "output_type": "error",
     "traceback": [
      "Traceback \u001b[0;36m(most recent call last)\u001b[0m:\n",
      "\u001b[0m  File \u001b[1;32m~/.local/lib/python3.10/site-packages/IPython/core/interactiveshell.py:3577\u001b[0m in \u001b[1;35mrun_code\u001b[0m\n    exec(code_obj, self.user_global_ns, self.user_ns)\u001b[0m\n",
      "\u001b[0m  Cell \u001b[1;32mIn[31], line 32\u001b[0m\n    def search_sequence_in_chunk(chunk: ti.ndarray, seq: ti.ndarray, result: ti.ndarray):\u001b[0m\n",
      "\u001b[0m  File \u001b[1;32m~/.local/lib/python3.10/site-packages/taichi/lang/kernel_impl.py:1156\u001b[0m in \u001b[1;35mkernel\u001b[0m\n    return _kernel_impl(fn, level_of_class_stackframe=3)\u001b[0m\n",
      "\u001b[0m  File \u001b[1;32m~/.local/lib/python3.10/site-packages/taichi/lang/kernel_impl.py:1087\u001b[0m in \u001b[1;35m_kernel_impl\u001b[0m\n    primal = Kernel(_func, autodiff_mode=AutodiffMode.NONE, _classkernel=is_classkernel)\u001b[0m\n",
      "\u001b[0m  File \u001b[1;32m~/.local/lib/python3.10/site-packages/taichi/lang/kernel_impl.py:551\u001b[0m in \u001b[1;35m__init__\u001b[0m\n    self.extract_arguments()\u001b[0m\n",
      "\u001b[0;36m  File \u001b[0;32m~/.local/lib/python3.10/site-packages/taichi/lang/kernel_impl.py:631\u001b[0;36m in \u001b[0;35mextract_arguments\u001b[0;36m\n\u001b[0;31m    raise TaichiSyntaxError(f\"Invalid type annotation (argument {i}) of Taichi kernel: {annotation}\")\u001b[0;36m\n",
      "\u001b[0;36m  File \u001b[0;32m<string>\u001b[0;36m\u001b[0m\n\u001b[0;31mTaichiSyntaxError\u001b[0m\u001b[0;31m:\u001b[0m Invalid type annotation (argument 0) of Taichi kernel: <function ndarray at 0x7d1fd00e7910>\n"
     ]
    }
   ],
   "source": [
    "import taichi as ti\n",
    "import numpy as np\n",
    "import os\n",
    "\n",
    "# Initialiser Taichi pour utiliser le CPU (ou le GPU si disponible)\n",
    "ti.init(arch=ti.cpu)\n",
    "\n",
    "# Définir la séquence à rechercher\n",
    "sequence = \"20058243\"\n",
    "sequence_length = len(sequence)\n",
    "sequence_np = np.array([ord(c) for c in sequence], dtype=np.int32)\n",
    "\n",
    "# créer un tableau Taichi pour stocker la séquence\n",
    "seq = ti.field(dtype=ti.int32, shape=sequence_length)\n",
    "\n",
    "print(type(seq))\n",
    "\n",
    "# Fonction pour lire le fichier et le diviser en morceaux\n",
    "def read_file_chunks(filename, chunk_size=1024):\n",
    "    if not os.path.exists(filename):\n",
    "        raise FileNotFoundError(f\"Could not open file {filename}\")\n",
    "    \n",
    "    with open(filename, 'r') as file:\n",
    "        while True:\n",
    "            chunk = file.read(chunk_size)\n",
    "            if not chunk:\n",
    "                break\n",
    "            yield chunk\n",
    "\n",
    "# Kernel Taichi pour rechercher la séquence dans un morceau\n",
    "@ti.kernel\n",
    "def search_sequence_in_chunk(chunk: ti.lang.field.ScalarField, seq: ti.ndarray, result: ti.ndarray):\n",
    "    chunk_length = chunk.shape[0]\n",
    "    for i in range(chunk_length):\n",
    "        match_count = 0\n",
    "        for j in range(seq.shape[0]):\n",
    "            if i + j < chunk_length and chunk[i + j] == seq[j]:\n",
    "                match_count += 1\n",
    "            else:\n",
    "                break\n",
    "        if match_count == seq.shape[0]:\n",
    "            result[0] = 1  # Séquence trouvée\n",
    "\n",
    "def find_sequence_in_file_taichi(filename, sequence):\n",
    "    chunk_size = 1024\n",
    "    result = ti.field(dtype=ti.int32, shape=())\n",
    "    \n",
    "    for chunk in read_file_chunks(filename, chunk_size):\n",
    "        chunk_np = np.array([ord(c) for c in chunk], dtype=np.int32)\n",
    "        search_sequence_in_chunk(chunk_np, sequence_np, result)\n",
    "        \n",
    "        if result[0] == 1:\n",
    "            return True\n",
    "    \n",
    "    return False\n",
    "\n",
    "filename = \"/home/miguel/Bureau/HPC/labos_HPC/lab7/code/inputs/10m.txt\"\n",
    "\n",
    "found = find_sequence_in_file_taichi(filename, sequence)\n",
    "if found:\n",
    "    print(\"sequence found\")\n",
    "else:\n",
    "    print(\"sequence not found\")\n"
   ]
  }
 ],
 "metadata": {
  "kernelspec": {
   "display_name": "Python 3",
   "language": "python",
   "name": "python3"
  },
  "language_info": {
   "codemirror_mode": {
    "name": "ipython",
    "version": 3
   },
   "file_extension": ".py",
   "mimetype": "text/x-python",
   "name": "python",
   "nbconvert_exporter": "python",
   "pygments_lexer": "ipython3",
   "version": "3.10.12"
  }
 },
 "nbformat": 4,
 "nbformat_minor": 2
}
